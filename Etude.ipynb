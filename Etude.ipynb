{
 "cells": [
  {
   "cell_type": "code",
   "execution_count": 8,
   "metadata": {},
   "outputs": [],
   "source": [
    "import pandas as pd\n",
    "import numpy as np\n",
    "\n",
    "import matplotlib.pyplot as plt\n",
    "%matplotlib inline\n",
    "\n",
    "from sklearn.model_selection import cross_val_predict, cross_validate\n",
    "from sklearn.linear_model import LinearRegression\n"
   ]
  },
  {
   "cell_type": "code",
   "execution_count": 9,
   "metadata": {},
   "outputs": [],
   "source": [
    "df = pd.read_csv('automobiles.csv', sep = ';')"
   ]
  },
  {
   "cell_type": "code",
   "execution_count": 10,
   "metadata": {},
   "outputs": [
    {
     "data": {
      "text/html": [
       "<div>\n",
       "<style scoped>\n",
       "    .dataframe tbody tr th:only-of-type {\n",
       "        vertical-align: middle;\n",
       "    }\n",
       "\n",
       "    .dataframe tbody tr th {\n",
       "        vertical-align: top;\n",
       "    }\n",
       "\n",
       "    .dataframe thead th {\n",
       "        text-align: right;\n",
       "    }\n",
       "</style>\n",
       "<table border=\"1\" class=\"dataframe\">\n",
       "  <thead>\n",
       "    <tr style=\"text-align: right;\">\n",
       "      <th></th>\n",
       "      <th>symboling</th>\n",
       "      <th>normalized-losses</th>\n",
       "      <th>wheel-base</th>\n",
       "      <th>length</th>\n",
       "      <th>width</th>\n",
       "      <th>height</th>\n",
       "      <th>curb-weight</th>\n",
       "      <th>engine-size</th>\n",
       "      <th>bore</th>\n",
       "      <th>stroke</th>\n",
       "      <th>compression-ratio</th>\n",
       "      <th>horsepower</th>\n",
       "      <th>peak-rpm</th>\n",
       "      <th>city-mpg</th>\n",
       "      <th>highway-mpg</th>\n",
       "      <th>price</th>\n",
       "    </tr>\n",
       "  </thead>\n",
       "  <tbody>\n",
       "    <tr>\n",
       "      <th>0</th>\n",
       "      <td>2</td>\n",
       "      <td>164</td>\n",
       "      <td>99.8</td>\n",
       "      <td>176.6</td>\n",
       "      <td>66.2</td>\n",
       "      <td>54.3</td>\n",
       "      <td>2337</td>\n",
       "      <td>109</td>\n",
       "      <td>3.19</td>\n",
       "      <td>3.4</td>\n",
       "      <td>10.0</td>\n",
       "      <td>102</td>\n",
       "      <td>5500</td>\n",
       "      <td>24</td>\n",
       "      <td>30</td>\n",
       "      <td>13950</td>\n",
       "    </tr>\n",
       "    <tr>\n",
       "      <th>1</th>\n",
       "      <td>2</td>\n",
       "      <td>164</td>\n",
       "      <td>99.4</td>\n",
       "      <td>176.6</td>\n",
       "      <td>66.4</td>\n",
       "      <td>54.3</td>\n",
       "      <td>2824</td>\n",
       "      <td>136</td>\n",
       "      <td>3.19</td>\n",
       "      <td>3.4</td>\n",
       "      <td>8.0</td>\n",
       "      <td>115</td>\n",
       "      <td>5500</td>\n",
       "      <td>18</td>\n",
       "      <td>22</td>\n",
       "      <td>17450</td>\n",
       "    </tr>\n",
       "    <tr>\n",
       "      <th>2</th>\n",
       "      <td>1</td>\n",
       "      <td>158</td>\n",
       "      <td>105.8</td>\n",
       "      <td>192.7</td>\n",
       "      <td>71.4</td>\n",
       "      <td>55.7</td>\n",
       "      <td>2844</td>\n",
       "      <td>136</td>\n",
       "      <td>3.19</td>\n",
       "      <td>3.4</td>\n",
       "      <td>8.5</td>\n",
       "      <td>110</td>\n",
       "      <td>5500</td>\n",
       "      <td>19</td>\n",
       "      <td>25</td>\n",
       "      <td>17710</td>\n",
       "    </tr>\n",
       "    <tr>\n",
       "      <th>3</th>\n",
       "      <td>1</td>\n",
       "      <td>158</td>\n",
       "      <td>105.8</td>\n",
       "      <td>192.7</td>\n",
       "      <td>71.4</td>\n",
       "      <td>55.9</td>\n",
       "      <td>3086</td>\n",
       "      <td>131</td>\n",
       "      <td>3.13</td>\n",
       "      <td>3.4</td>\n",
       "      <td>8.3</td>\n",
       "      <td>140</td>\n",
       "      <td>5500</td>\n",
       "      <td>17</td>\n",
       "      <td>20</td>\n",
       "      <td>23875</td>\n",
       "    </tr>\n",
       "    <tr>\n",
       "      <th>4</th>\n",
       "      <td>2</td>\n",
       "      <td>192</td>\n",
       "      <td>101.2</td>\n",
       "      <td>176.8</td>\n",
       "      <td>64.8</td>\n",
       "      <td>54.3</td>\n",
       "      <td>2395</td>\n",
       "      <td>108</td>\n",
       "      <td>3.50</td>\n",
       "      <td>2.8</td>\n",
       "      <td>8.8</td>\n",
       "      <td>101</td>\n",
       "      <td>5800</td>\n",
       "      <td>23</td>\n",
       "      <td>29</td>\n",
       "      <td>16430</td>\n",
       "    </tr>\n",
       "  </tbody>\n",
       "</table>\n",
       "</div>"
      ],
      "text/plain": [
       "   symboling  normalized-losses  wheel-base  length  width  height  \\\n",
       "0          2                164        99.8   176.6   66.2    54.3   \n",
       "1          2                164        99.4   176.6   66.4    54.3   \n",
       "2          1                158       105.8   192.7   71.4    55.7   \n",
       "3          1                158       105.8   192.7   71.4    55.9   \n",
       "4          2                192       101.2   176.8   64.8    54.3   \n",
       "\n",
       "   curb-weight  engine-size  bore  stroke  compression-ratio  horsepower  \\\n",
       "0         2337          109  3.19     3.4               10.0         102   \n",
       "1         2824          136  3.19     3.4                8.0         115   \n",
       "2         2844          136  3.19     3.4                8.5         110   \n",
       "3         3086          131  3.13     3.4                8.3         140   \n",
       "4         2395          108  3.50     2.8                8.8         101   \n",
       "\n",
       "   peak-rpm  city-mpg  highway-mpg  price  \n",
       "0      5500        24           30  13950  \n",
       "1      5500        18           22  17450  \n",
       "2      5500        19           25  17710  \n",
       "3      5500        17           20  23875  \n",
       "4      5800        23           29  16430  "
      ]
     },
     "execution_count": 10,
     "metadata": {},
     "output_type": "execute_result"
    }
   ],
   "source": [
    "df.head()"
   ]
  },
  {
   "cell_type": "code",
   "execution_count": 13,
   "metadata": {},
   "outputs": [],
   "source": [
    "df['bore'] = df['bore'].astype('float64')\n",
    "df['stroke'] = df['stroke'].astype('float64')"
   ]
  },
  {
   "cell_type": "code",
   "execution_count": 14,
   "metadata": {},
   "outputs": [
    {
     "name": "stdout",
     "output_type": "stream",
     "text": [
      "<class 'pandas.core.frame.DataFrame'>\n",
      "RangeIndex: 160 entries, 0 to 159\n",
      "Data columns (total 16 columns):\n",
      " #   Column             Non-Null Count  Dtype  \n",
      "---  ------             --------------  -----  \n",
      " 0   symboling          160 non-null    int64  \n",
      " 1   normalized-losses  160 non-null    int64  \n",
      " 2   wheel-base         160 non-null    float64\n",
      " 3   length             160 non-null    float64\n",
      " 4   width              160 non-null    float64\n",
      " 5   height             160 non-null    float64\n",
      " 6   curb-weight        160 non-null    int64  \n",
      " 7   engine-size        160 non-null    int64  \n",
      " 8   bore               160 non-null    float64\n",
      " 9   stroke             160 non-null    float64\n",
      " 10  compression-ratio  160 non-null    float64\n",
      " 11  horsepower         160 non-null    int64  \n",
      " 12  peak-rpm           160 non-null    int64  \n",
      " 13  city-mpg           160 non-null    int64  \n",
      " 14  highway-mpg        160 non-null    int64  \n",
      " 15  price              160 non-null    int64  \n",
      "dtypes: float64(7), int64(9)\n",
      "memory usage: 20.1 KB\n"
     ]
    }
   ],
   "source": [
    "df.info()"
   ]
  },
  {
   "cell_type": "code",
   "execution_count": 15,
   "metadata": {},
   "outputs": [
    {
     "data": {
      "text/html": [
       "<div>\n",
       "<style scoped>\n",
       "    .dataframe tbody tr th:only-of-type {\n",
       "        vertical-align: middle;\n",
       "    }\n",
       "\n",
       "    .dataframe tbody tr th {\n",
       "        vertical-align: top;\n",
       "    }\n",
       "\n",
       "    .dataframe thead th {\n",
       "        text-align: right;\n",
       "    }\n",
       "</style>\n",
       "<table border=\"1\" class=\"dataframe\">\n",
       "  <thead>\n",
       "    <tr style=\"text-align: right;\">\n",
       "      <th></th>\n",
       "      <th>symboling</th>\n",
       "      <th>normalized-losses</th>\n",
       "      <th>wheel-base</th>\n",
       "      <th>length</th>\n",
       "      <th>width</th>\n",
       "      <th>height</th>\n",
       "      <th>curb-weight</th>\n",
       "      <th>engine-size</th>\n",
       "      <th>bore</th>\n",
       "      <th>stroke</th>\n",
       "      <th>compression-ratio</th>\n",
       "      <th>horsepower</th>\n",
       "      <th>peak-rpm</th>\n",
       "      <th>city-mpg</th>\n",
       "      <th>highway-mpg</th>\n",
       "      <th>price</th>\n",
       "    </tr>\n",
       "  </thead>\n",
       "  <tbody>\n",
       "    <tr>\n",
       "      <th>count</th>\n",
       "      <td>160.000000</td>\n",
       "      <td>160.000000</td>\n",
       "      <td>160.000000</td>\n",
       "      <td>160.000000</td>\n",
       "      <td>160.000000</td>\n",
       "      <td>160.000000</td>\n",
       "      <td>160.000000</td>\n",
       "      <td>160.000000</td>\n",
       "      <td>160.000000</td>\n",
       "      <td>160.000000</td>\n",
       "      <td>160.000000</td>\n",
       "      <td>160.000000</td>\n",
       "      <td>160.000000</td>\n",
       "      <td>160.000000</td>\n",
       "      <td>160.000000</td>\n",
       "      <td>160.000000</td>\n",
       "    </tr>\n",
       "    <tr>\n",
       "      <th>mean</th>\n",
       "      <td>0.737500</td>\n",
       "      <td>121.300000</td>\n",
       "      <td>98.235625</td>\n",
       "      <td>172.319375</td>\n",
       "      <td>65.596250</td>\n",
       "      <td>53.878750</td>\n",
       "      <td>2459.450000</td>\n",
       "      <td>119.093750</td>\n",
       "      <td>3.298437</td>\n",
       "      <td>3.237313</td>\n",
       "      <td>10.145125</td>\n",
       "      <td>95.875000</td>\n",
       "      <td>5116.250000</td>\n",
       "      <td>26.506250</td>\n",
       "      <td>32.068750</td>\n",
       "      <td>11427.681250</td>\n",
       "    </tr>\n",
       "    <tr>\n",
       "      <th>std</th>\n",
       "      <td>1.189511</td>\n",
       "      <td>35.602417</td>\n",
       "      <td>5.163763</td>\n",
       "      <td>11.548860</td>\n",
       "      <td>1.946999</td>\n",
       "      <td>2.276608</td>\n",
       "      <td>480.897834</td>\n",
       "      <td>30.411186</td>\n",
       "      <td>0.267348</td>\n",
       "      <td>0.294210</td>\n",
       "      <td>3.882507</td>\n",
       "      <td>30.625708</td>\n",
       "      <td>465.290536</td>\n",
       "      <td>6.081208</td>\n",
       "      <td>6.440948</td>\n",
       "      <td>5863.789011</td>\n",
       "    </tr>\n",
       "    <tr>\n",
       "      <th>min</th>\n",
       "      <td>-2.000000</td>\n",
       "      <td>65.000000</td>\n",
       "      <td>86.600000</td>\n",
       "      <td>141.100000</td>\n",
       "      <td>60.300000</td>\n",
       "      <td>49.400000</td>\n",
       "      <td>1488.000000</td>\n",
       "      <td>61.000000</td>\n",
       "      <td>2.540000</td>\n",
       "      <td>2.070000</td>\n",
       "      <td>7.000000</td>\n",
       "      <td>48.000000</td>\n",
       "      <td>4150.000000</td>\n",
       "      <td>15.000000</td>\n",
       "      <td>18.000000</td>\n",
       "      <td>5118.000000</td>\n",
       "    </tr>\n",
       "    <tr>\n",
       "      <th>25%</th>\n",
       "      <td>0.000000</td>\n",
       "      <td>94.000000</td>\n",
       "      <td>94.500000</td>\n",
       "      <td>165.525000</td>\n",
       "      <td>64.000000</td>\n",
       "      <td>52.000000</td>\n",
       "      <td>2073.250000</td>\n",
       "      <td>97.000000</td>\n",
       "      <td>3.050000</td>\n",
       "      <td>3.107500</td>\n",
       "      <td>8.700000</td>\n",
       "      <td>69.000000</td>\n",
       "      <td>4800.000000</td>\n",
       "      <td>23.000000</td>\n",
       "      <td>28.000000</td>\n",
       "      <td>7383.500000</td>\n",
       "    </tr>\n",
       "    <tr>\n",
       "      <th>50%</th>\n",
       "      <td>1.000000</td>\n",
       "      <td>114.000000</td>\n",
       "      <td>96.900000</td>\n",
       "      <td>172.200000</td>\n",
       "      <td>65.400000</td>\n",
       "      <td>54.100000</td>\n",
       "      <td>2338.500000</td>\n",
       "      <td>110.000000</td>\n",
       "      <td>3.270000</td>\n",
       "      <td>3.270000</td>\n",
       "      <td>9.000000</td>\n",
       "      <td>88.000000</td>\n",
       "      <td>5200.000000</td>\n",
       "      <td>26.000000</td>\n",
       "      <td>32.000000</td>\n",
       "      <td>9164.000000</td>\n",
       "    </tr>\n",
       "    <tr>\n",
       "      <th>75%</th>\n",
       "      <td>2.000000</td>\n",
       "      <td>148.000000</td>\n",
       "      <td>100.600000</td>\n",
       "      <td>177.800000</td>\n",
       "      <td>66.500000</td>\n",
       "      <td>55.500000</td>\n",
       "      <td>2808.750000</td>\n",
       "      <td>134.500000</td>\n",
       "      <td>3.550000</td>\n",
       "      <td>3.410000</td>\n",
       "      <td>9.400000</td>\n",
       "      <td>114.000000</td>\n",
       "      <td>5500.000000</td>\n",
       "      <td>31.000000</td>\n",
       "      <td>37.000000</td>\n",
       "      <td>14559.250000</td>\n",
       "    </tr>\n",
       "    <tr>\n",
       "      <th>max</th>\n",
       "      <td>3.000000</td>\n",
       "      <td>256.000000</td>\n",
       "      <td>115.600000</td>\n",
       "      <td>202.600000</td>\n",
       "      <td>71.700000</td>\n",
       "      <td>59.800000</td>\n",
       "      <td>4066.000000</td>\n",
       "      <td>258.000000</td>\n",
       "      <td>3.940000</td>\n",
       "      <td>4.170000</td>\n",
       "      <td>23.000000</td>\n",
       "      <td>200.000000</td>\n",
       "      <td>6600.000000</td>\n",
       "      <td>49.000000</td>\n",
       "      <td>54.000000</td>\n",
       "      <td>35056.000000</td>\n",
       "    </tr>\n",
       "  </tbody>\n",
       "</table>\n",
       "</div>"
      ],
      "text/plain": [
       "        symboling  normalized-losses  wheel-base      length       width  \\\n",
       "count  160.000000         160.000000  160.000000  160.000000  160.000000   \n",
       "mean     0.737500         121.300000   98.235625  172.319375   65.596250   \n",
       "std      1.189511          35.602417    5.163763   11.548860    1.946999   \n",
       "min     -2.000000          65.000000   86.600000  141.100000   60.300000   \n",
       "25%      0.000000          94.000000   94.500000  165.525000   64.000000   \n",
       "50%      1.000000         114.000000   96.900000  172.200000   65.400000   \n",
       "75%      2.000000         148.000000  100.600000  177.800000   66.500000   \n",
       "max      3.000000         256.000000  115.600000  202.600000   71.700000   \n",
       "\n",
       "           height  curb-weight  engine-size        bore      stroke  \\\n",
       "count  160.000000   160.000000   160.000000  160.000000  160.000000   \n",
       "mean    53.878750  2459.450000   119.093750    3.298437    3.237313   \n",
       "std      2.276608   480.897834    30.411186    0.267348    0.294210   \n",
       "min     49.400000  1488.000000    61.000000    2.540000    2.070000   \n",
       "25%     52.000000  2073.250000    97.000000    3.050000    3.107500   \n",
       "50%     54.100000  2338.500000   110.000000    3.270000    3.270000   \n",
       "75%     55.500000  2808.750000   134.500000    3.550000    3.410000   \n",
       "max     59.800000  4066.000000   258.000000    3.940000    4.170000   \n",
       "\n",
       "       compression-ratio  horsepower     peak-rpm    city-mpg  highway-mpg  \\\n",
       "count         160.000000  160.000000   160.000000  160.000000   160.000000   \n",
       "mean           10.145125   95.875000  5116.250000   26.506250    32.068750   \n",
       "std             3.882507   30.625708   465.290536    6.081208     6.440948   \n",
       "min             7.000000   48.000000  4150.000000   15.000000    18.000000   \n",
       "25%             8.700000   69.000000  4800.000000   23.000000    28.000000   \n",
       "50%             9.000000   88.000000  5200.000000   26.000000    32.000000   \n",
       "75%             9.400000  114.000000  5500.000000   31.000000    37.000000   \n",
       "max            23.000000  200.000000  6600.000000   49.000000    54.000000   \n",
       "\n",
       "              price  \n",
       "count    160.000000  \n",
       "mean   11427.681250  \n",
       "std     5863.789011  \n",
       "min     5118.000000  \n",
       "25%     7383.500000  \n",
       "50%     9164.000000  \n",
       "75%    14559.250000  \n",
       "max    35056.000000  "
      ]
     },
     "execution_count": 15,
     "metadata": {},
     "output_type": "execute_result"
    }
   ],
   "source": [
    "df.describe()"
   ]
  },
  {
   "cell_type": "markdown",
   "metadata": {},
   "source": [
    "Le DataFrame contient 13 colonnes, mais nous nous intéresserons uniquement à l’attribut ‘curb-weight’ et à la cariable ‘price’. \n",
    "\n",
    "\n",
    "La régression linéaire, dans sa forme générale, suppose que la relation entre la variable cible et la(les) variable(s) explicative(s) est linéaire. \n",
    "\n",
    "\n",
    "Il faut donc vérifier que cette hypothèse ait du sens. \n"
   ]
  },
  {
   "cell_type": "code",
   "execution_count": 16,
   "metadata": {},
   "outputs": [
    {
     "data": {
      "image/png": "[encoded data removed]",
      "text/plain": [
       "<Figure size 1000x800 with 1 Axes>"
      ]
     },
     "metadata": {},
     "output_type": "display_data"
    }
   ],
   "source": [
    "plt.figure(figsize=(10, 8))\n",
    "\n",
    "plt.scatter(df['curb-weight'], df['price'], color='darkblue');"
   ]
  },
  {
   "cell_type": "markdown",
   "metadata": {},
   "source": [
    "Les points semblent s’aligner le long d’une courbe proche d’une droite, en lien linéaire entre ces deux variables est donc plausible. \n",
    "\n",
    "\n",
    "Il est à présent possible de construire un modèle de régression linéaire grâce à la classe LinearRegression du sous module sklearn.linear_model. \n",
    "\n",
    "\n",
    "La construction du modèle est basée sur la méthode des moindres carrés ordinaire (MCO) qui consiste à minimiser la somme des carrés des écarts entre chaque point du nuage de régression et son projeté sur la droite de régression. \n"
   ]
  },
  {
   "cell_type": "code",
   "execution_count": 17,
   "metadata": {},
   "outputs": [],
   "source": [
    "prix = df['price']\n",
    "mv = df[['curb-weight']]\n"
   ]
  },
  {
   "cell_type": "code",
   "execution_count": 18,
   "metadata": {},
   "outputs": [
    {
     "data": {
      "text/html": [
       "<style>#sk-container-id-1 {color: black;}#sk-container-id-1 pre{padding: 0;}#sk-container-id-1 div.sk-toggleable {background-color: white;}#sk-container-id-1 label.sk-toggleable__label {cursor: pointer;display: block;width: 100%;margin-bottom: 0;padding: 0.3em;box-sizing: border-box;text-align: center;}#sk-container-id-1 label.sk-toggleable__label-arrow:before {content: \"▸\";float: left;margin-right: 0.25em;color: #696969;}#sk-container-id-1 label.sk-toggleable__label-arrow:hover:before {color: black;}#sk-container-id-1 div.sk-estimator:hover label.sk-toggleable__label-arrow:before {color: black;}#sk-container-id-1 div.sk-toggleable__content {max-height: 0;max-width: 0;overflow: hidden;text-align: left;background-color: #f0f8ff;}#sk-container-id-1 div.sk-toggleable__content pre {margin: 0.2em;color: black;border-radius: 0.25em;background-color: #f0f8ff;}#sk-container-id-1 input.sk-toggleable__control:checked~div.sk-toggleable__content {max-height: 200px;max-width: 100%;overflow: auto;}#sk-container-id-1 input.sk-toggleable__control:checked~label.sk-toggleable__label-arrow:before {content: \"▾\";}#sk-container-id-1 div.sk-estimator input.sk-toggleable__control:checked~label.sk-toggleable__label {background-color: #d4ebff;}#sk-container-id-1 div.sk-label input.sk-toggleable__control:checked~label.sk-toggleable__label {background-color: #d4ebff;}#sk-container-id-1 input.sk-hidden--visually {border: 0;clip: rect(1px 1px 1px 1px);clip: rect(1px, 1px, 1px, 1px);height: 1px;margin: -1px;overflow: hidden;padding: 0;position: absolute;width: 1px;}#sk-container-id-1 div.sk-estimator {font-family: monospace;background-color: #f0f8ff;border: 1px dotted black;border-radius: 0.25em;box-sizing: border-box;margin-bottom: 0.5em;}#sk-container-id-1 div.sk-estimator:hover {background-color: #d4ebff;}#sk-container-id-1 div.sk-parallel-item::after {content: \"\";width: 100%;border-bottom: 1px solid gray;flex-grow: 1;}#sk-container-id-1 div.sk-label:hover label.sk-toggleable__label {background-color: #d4ebff;}#sk-container-id-1 div.sk-serial::before {content: \"\";position: absolute;border-left: 1px solid gray;box-sizing: border-box;top: 0;bottom: 0;left: 50%;z-index: 0;}#sk-container-id-1 div.sk-serial {display: flex;flex-direction: column;align-items: center;background-color: white;padding-right: 0.2em;padding-left: 0.2em;position: relative;}#sk-container-id-1 div.sk-item {position: relative;z-index: 1;}#sk-container-id-1 div.sk-parallel {display: flex;align-items: stretch;justify-content: center;background-color: white;position: relative;}#sk-container-id-1 div.sk-item::before, #sk-container-id-1 div.sk-parallel-item::before {content: \"\";position: absolute;border-left: 1px solid gray;box-sizing: border-box;top: 0;bottom: 0;left: 50%;z-index: -1;}#sk-container-id-1 div.sk-parallel-item {display: flex;flex-direction: column;z-index: 1;position: relative;background-color: white;}#sk-container-id-1 div.sk-parallel-item:first-child::after {align-self: flex-end;width: 50%;}#sk-container-id-1 div.sk-parallel-item:last-child::after {align-self: flex-start;width: 50%;}#sk-container-id-1 div.sk-parallel-item:only-child::after {width: 0;}#sk-container-id-1 div.sk-dashed-wrapped {border: 1px dashed gray;margin: 0 0.4em 0.5em 0.4em;box-sizing: border-box;padding-bottom: 0.4em;background-color: white;}#sk-container-id-1 div.sk-label label {font-family: monospace;font-weight: bold;display: inline-block;line-height: 1.2em;}#sk-container-id-1 div.sk-label-container {text-align: center;}#sk-container-id-1 div.sk-container {/* jupyter's `normalize.less` sets `[hidden] { display: none; }` but bootstrap.min.css set `[hidden] { display: none !important; }` so we also need the `!important` here to be able to override the default hidden behavior on the sphinx rendered scikit-learn.org. See: https://github.com/scikit-learn/scikit-learn/issues/21755 */display: inline-block !important;position: relative;}#sk-container-id-1 div.sk-text-repr-fallback {display: none;}</style><div id=\"sk-container-id-1\" class=\"sk-top-container\"><div class=\"sk-text-repr-fallback\"><pre>LinearRegression()</pre><b>In a Jupyter environment, please rerun this cell to show the HTML representation or trust the notebook. <br />On GitHub, the HTML representation is unable to render, please try loading this page with nbviewer.org.</b></div><div class=\"sk-container\" hidden><div class=\"sk-item\"><div class=\"sk-estimator sk-toggleable\"><input class=\"sk-toggleable__control sk-hidden--visually\" id=\"sk-estimator-id-1\" type=\"checkbox\" checked><label for=\"sk-estimator-id-1\" class=\"sk-toggleable__label sk-toggleable__label-arrow\">LinearRegression</label><div class=\"sk-toggleable__content\"><pre>LinearRegression()</pre></div></div></div></div></div>"
      ],
      "text/plain": [
       "LinearRegression()"
      ]
     },
     "execution_count": 18,
     "metadata": {},
     "output_type": "execute_result"
    }
   ],
   "source": [
    "slr = LinearRegression()\n",
    "slr.fit(mv, prix)\n"
   ]
  },
  {
   "cell_type": "markdown",
   "metadata": {},
   "source": [
    "Le modèle slr créé possède les attributs intercept_ et coef_ qui correspondant à l’ordonnée à l’origine et la pente de la droite dans le cas d’une régression linéaire simple. "
   ]
  },
  {
   "cell_type": "code",
   "execution_count": 19,
   "metadata": {},
   "outputs": [
    {
     "name": "stdout",
     "output_type": "stream",
     "text": [
      "-15376.86692829908\n",
      "[10.89859447]\n"
     ]
    }
   ],
   "source": [
    "print(slr.intercept_)\n",
    "print(slr.coef_)\n"
   ]
  },
  {
   "cell_type": "markdown",
   "metadata": {},
   "source": [
    "Ici le modèle peut se modélise de cette façon : prix = 15378.2+10.9*curb-weight.\n",
    "\n",
    "\n",
    "En d’autres termes, si le poids à vide d’un véhicule augmente d’une unité de masse, son prix augmente de 10.9 euros. \n",
    "\n",
    "\n",
    "Attention cependant aux mauvaises interprétations : le coefficient de régression permet d’analyser la relation entre deux variables et non l’intensité ou la causalité de cette relation.\n"
   ]
  },
  {
   "cell_type": "markdown",
   "metadata": {},
   "source": [
    "Par défaut sur scikit-learn, le score calculé pour l’évaluation des performances d’un régression est le coefficient de détermination (R2). Dans le cas d’une régression linéaire simple, ce coefficient équivaut au rapport entre la variance expliquée et la variance totale.\n",
    "\n",
    "\n",
    "Le meilleur score possible vaut 1 et le score peut être négatif. Plus le score se rapproche de 1, plus le modèle est performant. \n"
   ]
  },
  {
   "cell_type": "code",
   "execution_count": 20,
   "metadata": {},
   "outputs": [
    {
     "data": {
      "text/plain": [
       "{'fit_time': array([0.00703144, 0.00209308, 0.000911  , 0.00200844]),\n",
       " 'score_time': array([0.00120139, 0.        , 0.00225425, 0.        ]),\n",
       " 'test_score': array([0.73752564, 0.81483629, 0.65408352, 0.80765298]),\n",
       " 'train_score': array([0.80666168, 0.78145798, 0.81816955, 0.79388068])}"
      ]
     },
     "execution_count": 20,
     "metadata": {},
     "output_type": "execute_result"
    }
   ],
   "source": [
    "cross_validate(slr, mv, prix, return_train_score=True, cv=4)\n"
   ]
  },
  {
   "cell_type": "code",
   "execution_count": 21,
   "metadata": {},
   "outputs": [
    {
     "data": {
      "text/plain": [
       "0.7535246063073479"
      ]
     },
     "execution_count": 21,
     "metadata": {},
     "output_type": "execute_result"
    }
   ],
   "source": [
    "cross_validate(slr, mv, prix, return_train_score=True, cv=4)['test_score'].mean()"
   ]
  },
  {
   "cell_type": "markdown",
   "metadata": {},
   "source": [
    "Cette valeur signifie que la masse vide en ordre de marche d’une voiture explique environ 75% de la variance du prix. \n",
    "\n",
    "\n",
    "Le coefficient R2 se base sur les résidus : les différences entre la valeur ajustée de chaque point et sa valeur réelle.\n",
    "\n",
    "\n",
    "Une fois les paramètres du modèle ajustés, on peut les utiliser afin de ‘prédire’ la variable cible pour la nouvelle valeur de(des) variable(s) explicative(s), grâce à la méthode predict appliquée au modèle. \n",
    "\n",
    "\n",
    "On peut également l’utiliser pour calculer les valeurs ajustées par le modèle. \n"
   ]
  },
  {
   "cell_type": "code",
   "execution_count": 22,
   "metadata": {},
   "outputs": [
    {
     "data": {
      "text/plain": [
       "count    1.600000e+02\n",
       "mean     1.273293e-12\n",
       "std      2.629597e+03\n",
       "min     -1.027155e+04\n",
       "25%     -1.108884e+03\n",
       "50%      1.447688e+02\n",
       "75%      1.447202e+03\n",
       "max      9.739762e+03\n",
       "Name: price, dtype: float64"
      ]
     },
     "execution_count": 22,
     "metadata": {},
     "output_type": "execute_result"
    }
   ],
   "source": [
    "pred_prix = slr.predict(mv)\n",
    "residus = pred_prix - prix\n",
    "residus.describe()\n"
   ]
  },
  {
   "cell_type": "markdown",
   "metadata": {},
   "source": [
    "Pour avoir une idée de comment le modèle linéaire s’adapte aux données, le plus efficace reste de tracer la droite de régression sur le nuage de points affiché plus haut. "
   ]
  },
  {
   "cell_type": "code",
   "execution_count": 23,
   "metadata": {},
   "outputs": [
    {
     "data": {
      "image/png": "[encoded data removed]",
      "text/plain": [
       "<Figure size 1000x800 with 1 Axes>"
      ]
     },
     "metadata": {},
     "output_type": "display_data"
    }
   ],
   "source": [
    "plt.figure(figsize=(10, 8))\n",
    "\n",
    "plt.scatter(mv['curb-weight'], prix, color='darkblue')\n",
    "plt.plot(mv, pred_prix ,color='k');\n"
   ]
  },
  {
   "cell_type": "markdown",
   "metadata": {},
   "source": [
    "La droite de régression semble raisonnablement ajustée, quelques points sont plus éloignés de la droite, notamment ceux avec un prix élevé mais l’ensemble reste relativement correct. \n",
    "\n",
    "\n",
    "Les valeurs aberrantes peuvent avoir une grande influence sur les modèles de régression linéaire : puisque le propre de la régression est la minimisation des résidus au carré, les résidus importants ont une influence disproportionnée sur le modèle. \n",
    "\n",
    "\n",
    "L’affichage de la droite nous aide à détecter les valeurs aberrantes influentes. Dans notre graphique, il ne semble pas y avoir de valeurs aberrantes influentes. \n"
   ]
  },
  {
   "cell_type": "code",
   "execution_count": 24,
   "metadata": {},
   "outputs": [
    {
     "name": "stdout",
     "output_type": "stream",
     "text": [
      "F-statistique : [627.66106768] p-value : [6.61188355e-57]\n"
     ]
    }
   ],
   "source": [
    "from sklearn.feature_selection import f_regression\n",
    "\n",
    "print('F-statistique :', f_regression(mv, prix)[0], 'p-value :', f_regression(mv, prix)[1])\n",
    "## p-value ~ 0 donc la variable mv très significative.\n"
   ]
  },
  {
   "cell_type": "markdown",
   "metadata": {},
   "source": [
    "Une autre métrique souvent utilisée pour évaluer un modèle de régression est la racine de l'erreur quadratique (RMSE en anglais).\n",
    "\n",
    "Contrairement au R², qui ne s'applique qu'aux modèles de régression linéaire, le RMSE est une métrique d'évaluation universelle qui nous permet de comparer les performances de prédiction de différents types de modèles.\n",
    "\n",
    "\n",
    "Le RMSE est la racine carrée de la moyenne des résidus au carré.\n"
   ]
  },
  {
   "cell_type": "code",
   "execution_count": 25,
   "metadata": {},
   "outputs": [
    {
     "data": {
      "text/plain": [
       "2621.367031971261"
      ]
     },
     "execution_count": 25,
     "metadata": {},
     "output_type": "execute_result"
    }
   ],
   "source": [
    "def rmse(predictions, targets):\n",
    "    return np.sqrt(((predictions - targets)**2).mean())\n",
    "\n",
    "rmse(pred_prix, prix)\n"
   ]
  },
  {
   "cell_type": "markdown",
   "metadata": {},
   "source": [
    "De toute évidence, plus l'erreur quadratique moyenne est proche de 0, plus précises sont les prédictions.\n",
    "En revanche, le RMSE ne s'interprète pas si facilement lorsqu'il est calculé sur un seul modèle, et sert souvent plus de comparateur entre plusieurs modèles.\n",
    "\n",
    "\n",
    "Il est en effet complètement dépendant de l'échelle de la variable cible, ou variable à expliquer. Il n'y a donc pas de seuil permettant de juger de la bonne performance d'un modèle.\n",
    "\n",
    "\n",
    "En outre, ici il est élevé puisqu'il est calculé sur une variable cible contenant des prix de voitures de moyenne de 11445. D'autre part, les données sont NON normalisées.\n",
    "\n",
    "\n",
    "\n",
    "La fonction cross_val_predict de sklearn.model_selection permet d'effectuer des prédictions sur un ensemble de données par validation croisée, et retourne pour chacun des éléments du jeu de données, la prédiction obtenue pour cet élément lorsqu'il était dans l'échantillon de test.\n",
    "\n",
    "\n",
    "En pratique, les données sont divisées en un nombre k d'échantillons, puis k régressions sont réalisées en mettant de côté à chaque étape un échantillon différent parmi les k.\n",
    "\n",
    "\n",
    "Les prédictions sont ensuite calculées pour chaque élément de cet échantillon mis de côté, à partir des coefficients calculés sur les autres."
   ]
  },
  {
   "cell_type": "code",
   "execution_count": 26,
   "metadata": {},
   "outputs": [
    {
     "data": {
      "text/plain": [
       "2770.2683630550887"
      ]
     },
     "execution_count": 26,
     "metadata": {},
     "output_type": "execute_result"
    }
   ],
   "source": [
    "pred_prix2 = cross_val_predict(slr, mv, prix, cv=4) \n",
    "\n",
    "rmse(pred_prix2, prix)\n"
   ]
  },
  {
   "cell_type": "markdown",
   "metadata": {},
   "source": [
    "Le RMSE obtenu est plus élevé que celui obtenu plus haut.\n",
    "Ceci est logique puisqu'il était calculé sur les données qui ont elles-mêmes servi à construire le modèle, qui calcule les coefficients de manière à minimiser la somme des erreurs quadratiques.\n",
    "\n",
    "\n",
    "Cependant, plus le modèle est performant, mieux il se généralise, et plus proches doivent être les RMSE calculées sur l'échantillon d'entraînement et sur des données nouvelles.\n",
    "\n",
    "\n",
    "L'objectif étant de se familiariser à la régression linéaire à l'aide d'une régression linéaire simple, le modèle n'est pas des plus performants, et certaines hypothèses importantes à l'élaboration d'une régression linéaire n'ont pas été prises en compte."
   ]
  }
 ],
 "metadata": {
  "kernelspec": {
   "display_name": "projetct",
   "language": "python",
   "name": "python3"
  },
  "language_info": {
   "codemirror_mode": {
    "name": "ipython",
    "version": 3
   },
   "file_extension": ".py",
   "mimetype": "text/x-python",
   "name": "python",
   "nbconvert_exporter": "python",
   "pygments_lexer": "ipython3",
   "version": "3.11.8"
  }
 },
 "nbformat": 4,
 "nbformat_minor": 2
}
